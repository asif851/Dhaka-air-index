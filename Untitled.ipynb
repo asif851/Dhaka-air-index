{
 "cells": [
  {
   "cell_type": "code",
   "execution_count": 1,
   "id": "93b5be40",
   "metadata": {},
   "outputs": [],
   "source": [
    "import pandas as pd\n",
    "import numpy as np\n",
    "import matplotlib.pyplot as plt\n",
    "import seaborn as sns"
   ]
  },
  {
   "cell_type": "code",
   "execution_count": 3,
   "id": "8f2c963c",
   "metadata": {},
   "outputs": [
    {
     "data": {
      "text/html": [
       "<div>\n",
       "<style scoped>\n",
       "    .dataframe tbody tr th:only-of-type {\n",
       "        vertical-align: middle;\n",
       "    }\n",
       "\n",
       "    .dataframe tbody tr th {\n",
       "        vertical-align: top;\n",
       "    }\n",
       "\n",
       "    .dataframe thead th {\n",
       "        text-align: right;\n",
       "    }\n",
       "</style>\n",
       "<table border=\"1\" class=\"dataframe\">\n",
       "  <thead>\n",
       "    <tr style=\"text-align: right;\">\n",
       "      <th></th>\n",
       "      <th>Date (LT)</th>\n",
       "      <th>Hour</th>\n",
       "      <th>NowCast Conc.</th>\n",
       "      <th>Raw Conc.</th>\n",
       "      <th>Conc. Unit</th>\n",
       "      <th>AQI</th>\n",
       "      <th>AQI Category</th>\n",
       "      <th>QC Name</th>\n",
       "    </tr>\n",
       "  </thead>\n",
       "  <tbody>\n",
       "    <tr>\n",
       "      <th>0</th>\n",
       "      <td>01/01/2022 02:00</td>\n",
       "      <td>2</td>\n",
       "      <td>130.1</td>\n",
       "      <td>129</td>\n",
       "      <td>ug/m3</td>\n",
       "      <td>190</td>\n",
       "      <td>Unhealthy</td>\n",
       "      <td>Valid</td>\n",
       "    </tr>\n",
       "    <tr>\n",
       "      <th>1</th>\n",
       "      <td>01/01/2022 03:00</td>\n",
       "      <td>3</td>\n",
       "      <td>128.1</td>\n",
       "      <td>126</td>\n",
       "      <td>ug/m3</td>\n",
       "      <td>188</td>\n",
       "      <td>Unhealthy</td>\n",
       "      <td>Valid</td>\n",
       "    </tr>\n",
       "    <tr>\n",
       "      <th>2</th>\n",
       "      <td>01/01/2022 04:00</td>\n",
       "      <td>4</td>\n",
       "      <td>125.1</td>\n",
       "      <td>121</td>\n",
       "      <td>ug/m3</td>\n",
       "      <td>187</td>\n",
       "      <td>Unhealthy</td>\n",
       "      <td>Valid</td>\n",
       "    </tr>\n",
       "    <tr>\n",
       "      <th>3</th>\n",
       "      <td>01/01/2022 05:00</td>\n",
       "      <td>5</td>\n",
       "      <td>125.6</td>\n",
       "      <td>126</td>\n",
       "      <td>ug/m3</td>\n",
       "      <td>187</td>\n",
       "      <td>Unhealthy</td>\n",
       "      <td>Valid</td>\n",
       "    </tr>\n",
       "    <tr>\n",
       "      <th>4</th>\n",
       "      <td>01/01/2022 06:00</td>\n",
       "      <td>6</td>\n",
       "      <td>124.2</td>\n",
       "      <td>120</td>\n",
       "      <td>ug/m3</td>\n",
       "      <td>186</td>\n",
       "      <td>Unhealthy</td>\n",
       "      <td>Valid</td>\n",
       "    </tr>\n",
       "  </tbody>\n",
       "</table>\n",
       "</div>"
      ],
      "text/plain": [
       "          Date (LT)  Hour  NowCast Conc.  Raw Conc. Conc. Unit  AQI  \\\n",
       "0  01/01/2022 02:00     2          130.1        129      ug/m3  190   \n",
       "1  01/01/2022 03:00     3          128.1        126      ug/m3  188   \n",
       "2  01/01/2022 04:00     4          125.1        121      ug/m3  187   \n",
       "3  01/01/2022 05:00     5          125.6        126      ug/m3  187   \n",
       "4  01/01/2022 06:00     6          124.2        120      ug/m3  186   \n",
       "\n",
       "  AQI Category QC Name  \n",
       "0    Unhealthy   Valid  \n",
       "1    Unhealthy   Valid  \n",
       "2    Unhealthy   Valid  \n",
       "3    Unhealthy   Valid  \n",
       "4    Unhealthy   Valid  "
      ]
     },
     "execution_count": 3,
     "metadata": {},
     "output_type": "execute_result"
    }
   ],
   "source": [
    "df_22=pd.read_csv('dataset/Dhaka_PM2.5_2022.csv')\n",
    "df_22.head()"
   ]
  },
  {
   "cell_type": "code",
   "execution_count": 4,
   "id": "133f9cb9",
   "metadata": {},
   "outputs": [
    {
     "data": {
      "text/plain": [
       "array(['Unhealthy', 'Very Unhealthy', 'Hazardous', nan,\n",
       "       'Unhealthy for Sensitive Groups', 'Moderate'], dtype=object)"
      ]
     },
     "execution_count": 4,
     "metadata": {},
     "output_type": "execute_result"
    }
   ],
   "source": [
    "df_22['AQI Category'].unique()"
   ]
  },
  {
   "cell_type": "code",
   "execution_count": 5,
   "id": "95a87075",
   "metadata": {},
   "outputs": [
    {
     "data": {
      "text/plain": [
       "Unhealthy                         1964\n",
       "Very Unhealthy                     864\n",
       "Unhealthy for Sensitive Groups     511\n",
       "Hazardous                          122\n",
       "Moderate                            67\n",
       "Name: AQI Category, dtype: int64"
      ]
     },
     "execution_count": 5,
     "metadata": {},
     "output_type": "execute_result"
    }
   ],
   "source": [
    "df_22['AQI Category'].value_counts()"
   ]
  },
  {
   "cell_type": "code",
   "execution_count": null,
   "id": "914f4b7a",
   "metadata": {},
   "outputs": [],
   "source": []
  }
 ],
 "metadata": {
  "kernelspec": {
   "display_name": "Python 3 (ipykernel)",
   "language": "python",
   "name": "python3"
  },
  "language_info": {
   "codemirror_mode": {
    "name": "ipython",
    "version": 3
   },
   "file_extension": ".py",
   "mimetype": "text/x-python",
   "name": "python",
   "nbconvert_exporter": "python",
   "pygments_lexer": "ipython3",
   "version": "3.10.9"
  }
 },
 "nbformat": 4,
 "nbformat_minor": 5
}
